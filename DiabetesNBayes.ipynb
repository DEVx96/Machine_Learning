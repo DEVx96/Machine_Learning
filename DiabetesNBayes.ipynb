{
  "nbformat": 4,
  "nbformat_minor": 0,
  "metadata": {
    "kernelspec": {
      "display_name": "Python 3",
      "language": "python",
      "name": "python3"
    },
    "language_info": {
      "codemirror_mode": {
        "name": "ipython",
        "version": 3
      },
      "file_extension": ".py",
      "mimetype": "text/x-python",
      "name": "python",
      "nbconvert_exporter": "python",
      "pygments_lexer": "ipython3",
      "version": "3.7.3"
    },
    "colab": {
      "name": "DiabetesNB.ipynb",
      "provenance": []
    }
  },
  "cells": [
    {
      "cell_type": "code",
      "metadata": {
        "id": "Dh8Te6a94bJP",
        "colab_type": "code",
        "colab": {}
      },
      "source": [
        "import pandas as pd\n",
        "import numpy as np\n",
        "from sklearn.naive_bayes import GaussianNB\n",
        "from sklearn.model_selection import train_test_split\n",
        "from sklearn.preprocessing import StandardScaler"
      ],
      "execution_count": null,
      "outputs": []
    },
    {
      "cell_type": "markdown",
      "metadata": {
        "id": "hnWhSja54bJT",
        "colab_type": "text"
      },
      "source": [
        "The dataset can be downloaded from https://www.kaggle.com/kumargh/pimaindiansdiabetescsv"
      ]
    },
    {
      "cell_type": "markdown",
      "metadata": {
        "id": "svc9Yup04bJU",
        "colab_type": "raw"
      },
      "source": [
        "This dataset describes the medical records for Pima Indians\n",
        "and whether or not each patient will have an onset of diabetes within five years.\n",
        "\n",
        "Fields description follow:\n",
        "\n",
        "preg = Number of times pregnant\n",
        "\n",
        "plas = Plasma glucose concentration a 2 hours in an oral glucose tolerance test\n",
        "\n",
        "pres = Diastolic blood pressure (**mm** Hg)\n",
        "\n",
        "skin = Triceps skin fold thickness (mm)\n",
        "\n",
        "test = 2-Hour serum insulin (mu U/ml)\n",
        "\n",
        "mass = Body mass index (weight in kg/(height in m)^2)\n",
        "\n",
        "pedi = Diabetes pedigree function\n",
        "\n",
        "age = Age (years)\n",
        "\n",
        "class = Class variable (1:tested positive for diabetes, 0: tested negative for diabetes) "
      ]
    },
    {
      "cell_type": "code",
      "metadata": {
        "id": "5U5AZOED4bJV",
        "colab_type": "code",
        "colab": {},
        "outputId": "7364f7fc-e4d2-4699-e7c0-6d70fb353cbb"
      },
      "source": [
        "df = pd.read_csv('datasets_14370_19291_pima-indians-diabetes.csv')\n",
        "df.head()"
      ],
      "execution_count": null,
      "outputs": [
        {
          "output_type": "execute_result",
          "data": {
            "text/html": [
              "<div>\n",
              "<style scoped>\n",
              "    .dataframe tbody tr th:only-of-type {\n",
              "        vertical-align: middle;\n",
              "    }\n",
              "\n",
              "    .dataframe tbody tr th {\n",
              "        vertical-align: top;\n",
              "    }\n",
              "\n",
              "    .dataframe thead th {\n",
              "        text-align: right;\n",
              "    }\n",
              "</style>\n",
              "<table border=\"1\" class=\"dataframe\">\n",
              "  <thead>\n",
              "    <tr style=\"text-align: right;\">\n",
              "      <th></th>\n",
              "      <th>6</th>\n",
              "      <th>148</th>\n",
              "      <th>72</th>\n",
              "      <th>35</th>\n",
              "      <th>0</th>\n",
              "      <th>33.6</th>\n",
              "      <th>0.627</th>\n",
              "      <th>50</th>\n",
              "      <th>1</th>\n",
              "    </tr>\n",
              "  </thead>\n",
              "  <tbody>\n",
              "    <tr>\n",
              "      <th>0</th>\n",
              "      <td>1</td>\n",
              "      <td>85</td>\n",
              "      <td>66</td>\n",
              "      <td>29</td>\n",
              "      <td>0</td>\n",
              "      <td>26.6</td>\n",
              "      <td>0.351</td>\n",
              "      <td>31</td>\n",
              "      <td>0</td>\n",
              "    </tr>\n",
              "    <tr>\n",
              "      <th>1</th>\n",
              "      <td>8</td>\n",
              "      <td>183</td>\n",
              "      <td>64</td>\n",
              "      <td>0</td>\n",
              "      <td>0</td>\n",
              "      <td>23.3</td>\n",
              "      <td>0.672</td>\n",
              "      <td>32</td>\n",
              "      <td>1</td>\n",
              "    </tr>\n",
              "    <tr>\n",
              "      <th>2</th>\n",
              "      <td>1</td>\n",
              "      <td>89</td>\n",
              "      <td>66</td>\n",
              "      <td>23</td>\n",
              "      <td>94</td>\n",
              "      <td>28.1</td>\n",
              "      <td>0.167</td>\n",
              "      <td>21</td>\n",
              "      <td>0</td>\n",
              "    </tr>\n",
              "    <tr>\n",
              "      <th>3</th>\n",
              "      <td>0</td>\n",
              "      <td>137</td>\n",
              "      <td>40</td>\n",
              "      <td>35</td>\n",
              "      <td>168</td>\n",
              "      <td>43.1</td>\n",
              "      <td>2.288</td>\n",
              "      <td>33</td>\n",
              "      <td>1</td>\n",
              "    </tr>\n",
              "    <tr>\n",
              "      <th>4</th>\n",
              "      <td>5</td>\n",
              "      <td>116</td>\n",
              "      <td>74</td>\n",
              "      <td>0</td>\n",
              "      <td>0</td>\n",
              "      <td>25.6</td>\n",
              "      <td>0.201</td>\n",
              "      <td>30</td>\n",
              "      <td>0</td>\n",
              "    </tr>\n",
              "  </tbody>\n",
              "</table>\n",
              "</div>"
            ],
            "text/plain": [
              "   6  148  72  35    0  33.6  0.627  50  1\n",
              "0  1   85  66  29    0  26.6  0.351  31  0\n",
              "1  8  183  64   0    0  23.3  0.672  32  1\n",
              "2  1   89  66  23   94  28.1  0.167  21  0\n",
              "3  0  137  40  35  168  43.1  2.288  33  1\n",
              "4  5  116  74   0    0  25.6  0.201  30  0"
            ]
          },
          "metadata": {
            "tags": []
          },
          "execution_count": 5
        }
      ]
    },
    {
      "cell_type": "code",
      "metadata": {
        "id": "qnkXWyLk4bJY",
        "colab_type": "code",
        "colab": {},
        "outputId": "9efd40da-846a-42f7-935e-6b6b5f8312e5"
      },
      "source": [
        "X = df.drop('1',axis=1)\n",
        "X.head()"
      ],
      "execution_count": null,
      "outputs": [
        {
          "output_type": "execute_result",
          "data": {
            "text/html": [
              "<div>\n",
              "<style scoped>\n",
              "    .dataframe tbody tr th:only-of-type {\n",
              "        vertical-align: middle;\n",
              "    }\n",
              "\n",
              "    .dataframe tbody tr th {\n",
              "        vertical-align: top;\n",
              "    }\n",
              "\n",
              "    .dataframe thead th {\n",
              "        text-align: right;\n",
              "    }\n",
              "</style>\n",
              "<table border=\"1\" class=\"dataframe\">\n",
              "  <thead>\n",
              "    <tr style=\"text-align: right;\">\n",
              "      <th></th>\n",
              "      <th>6</th>\n",
              "      <th>148</th>\n",
              "      <th>72</th>\n",
              "      <th>35</th>\n",
              "      <th>0</th>\n",
              "      <th>33.6</th>\n",
              "      <th>0.627</th>\n",
              "      <th>50</th>\n",
              "    </tr>\n",
              "  </thead>\n",
              "  <tbody>\n",
              "    <tr>\n",
              "      <th>0</th>\n",
              "      <td>1</td>\n",
              "      <td>85</td>\n",
              "      <td>66</td>\n",
              "      <td>29</td>\n",
              "      <td>0</td>\n",
              "      <td>26.6</td>\n",
              "      <td>0.351</td>\n",
              "      <td>31</td>\n",
              "    </tr>\n",
              "    <tr>\n",
              "      <th>1</th>\n",
              "      <td>8</td>\n",
              "      <td>183</td>\n",
              "      <td>64</td>\n",
              "      <td>0</td>\n",
              "      <td>0</td>\n",
              "      <td>23.3</td>\n",
              "      <td>0.672</td>\n",
              "      <td>32</td>\n",
              "    </tr>\n",
              "    <tr>\n",
              "      <th>2</th>\n",
              "      <td>1</td>\n",
              "      <td>89</td>\n",
              "      <td>66</td>\n",
              "      <td>23</td>\n",
              "      <td>94</td>\n",
              "      <td>28.1</td>\n",
              "      <td>0.167</td>\n",
              "      <td>21</td>\n",
              "    </tr>\n",
              "    <tr>\n",
              "      <th>3</th>\n",
              "      <td>0</td>\n",
              "      <td>137</td>\n",
              "      <td>40</td>\n",
              "      <td>35</td>\n",
              "      <td>168</td>\n",
              "      <td>43.1</td>\n",
              "      <td>2.288</td>\n",
              "      <td>33</td>\n",
              "    </tr>\n",
              "    <tr>\n",
              "      <th>4</th>\n",
              "      <td>5</td>\n",
              "      <td>116</td>\n",
              "      <td>74</td>\n",
              "      <td>0</td>\n",
              "      <td>0</td>\n",
              "      <td>25.6</td>\n",
              "      <td>0.201</td>\n",
              "      <td>30</td>\n",
              "    </tr>\n",
              "  </tbody>\n",
              "</table>\n",
              "</div>"
            ],
            "text/plain": [
              "   6  148  72  35    0  33.6  0.627  50\n",
              "0  1   85  66  29    0  26.6  0.351  31\n",
              "1  8  183  64   0    0  23.3  0.672  32\n",
              "2  1   89  66  23   94  28.1  0.167  21\n",
              "3  0  137  40  35  168  43.1  2.288  33\n",
              "4  5  116  74   0    0  25.6  0.201  30"
            ]
          },
          "metadata": {
            "tags": []
          },
          "execution_count": 18
        }
      ]
    },
    {
      "cell_type": "code",
      "metadata": {
        "id": "gPyfVvYA4bJc",
        "colab_type": "code",
        "colab": {},
        "outputId": "0a0e83f2-b78c-4177-cea3-a57edb90e9c7"
      },
      "source": [
        "y = df['1']\n",
        "y.head()"
      ],
      "execution_count": null,
      "outputs": [
        {
          "output_type": "execute_result",
          "data": {
            "text/plain": [
              "0    0\n",
              "1    1\n",
              "2    0\n",
              "3    1\n",
              "4    0\n",
              "Name: 1, dtype: int64"
            ]
          },
          "metadata": {
            "tags": []
          },
          "execution_count": 21
        }
      ]
    },
    {
      "cell_type": "code",
      "metadata": {
        "id": "ayKOmWwP4bJ6",
        "colab_type": "code",
        "colab": {}
      },
      "source": [
        "#Splitting the dataset into training and testing set\n",
        "X_train, X_test, y_train, y_test = train_test_split(X, y, test_size=0.2, random_state=42)"
      ],
      "execution_count": null,
      "outputs": []
    },
    {
      "cell_type": "code",
      "metadata": {
        "id": "SmHL3d8o4bJm",
        "colab_type": "code",
        "colab": {}
      },
      "source": [
        "scaler = StandardScaler()\n",
        "scaler.fit(X_train)\n",
        "X_tr_scaled = scaler.transform(X_train)\n",
        "X_te_scaled = scaler.transform(X_test)"
      ],
      "execution_count": null,
      "outputs": []
    },
    {
      "cell_type": "markdown",
      "metadata": {
        "id": "0LFMVdAJ4bJf",
        "colab_type": "raw"
      },
      "source": [
        "# Naive Bayes step by step implementation"
      ]
    },
    {
      "cell_type": "markdown",
      "metadata": {
        "id": "HLb6KFSF4bJf",
        "colab_type": "raw"
      },
      "source": [
        "Calculating probability of occurence of classes (1:tested positive for diabetes, 0: tested negative for diabetes) a.k.a Class Priors that is the probabilities that a randomly chosen data point will be 1, or 0"
      ]
    },
    {
      "cell_type": "code",
      "metadata": {
        "id": "AbV0kzyb4bJg",
        "colab_type": "code",
        "colab": {},
        "outputId": "eb35ae04-63bb-4ae1-8c56-afa540d8878d"
      },
      "source": [
        "p = (y_train ==  1).mean()\n",
        "q = (y_train == 0).mean()\n",
        "b = np.log(p/q)\n",
        "print('bias : ',b)"
      ],
      "execution_count": null,
      "outputs": [
        {
          "output_type": "stream",
          "text": [
            "bias :  -0.6518290312292144\n"
          ],
          "name": "stdout"
        }
      ]
    },
    {
      "cell_type": "markdown",
      "metadata": {
        "id": "92qBDMik5mkq",
        "colab_type": "text"
      },
      "source": [
        "*   b = 0 -> perfectly balanced dataset\n",
        "*   b > 0 -> bias towards class 1\n",
        "*   b < 0 -> bias towards class 0"
      ]
    },
    {
      "cell_type": "markdown",
      "metadata": {
        "id": "1NoSBFkl4bJr",
        "colab_type": "raw"
      },
      "source": [
        "Class occurrence counts."
      ]
    },
    {
      "cell_type": "code",
      "metadata": {
        "id": "goiEHdOU4bJr",
        "colab_type": "code",
        "colab": {},
        "outputId": "d6a89eea-e9cd-4cc2-f8db-44e2331ff096"
      },
      "source": [
        "C0 = X_tr_scaled[y_train == 0].sum(0)\n",
        "C1 = X_tr_scaled[y_train == 1].sum(0)\n",
        "C0"
      ],
      "execution_count": null,
      "outputs": [
        {
          "output_type": "execute_result",
          "data": {
            "text/plain": [
              "array([ -65.03191204, -133.49468241,  -39.57460281,  -24.51936966,\n",
              "        -46.43610412,  -79.48442979,  -52.36114517,  -67.47982513])"
            ]
          },
          "metadata": {
            "tags": []
          },
          "execution_count": 93
        }
      ]
    },
    {
      "cell_type": "markdown",
      "metadata": {
        "id": "RA1hmNq36qbX",
        "colab_type": "text"
      },
      "source": [
        " Then, given the knowledge that a data is classified as 1, the `conditional likelihood` that a datapoint will appear in class 1 is\n",
        "$ L(t|1) = \\frac{C^{1}_{t}}{N^1}$, \n",
        " and simlarly, the `conditional likelihood` of a datapoin appearing in class 0 is \n",
        " $ L(t|0) = \\frac{C^{0}_{t}}{N^0}$"
      ]
    },
    {
      "cell_type": "code",
      "metadata": {
        "id": "hmfxixw-4bJt",
        "colab_type": "code",
        "colab": {}
      },
      "source": [
        "L0 = (C0 + 1)/ ((y_train == 0).sum() + 1)\n",
        "L1 = (C1 + 1)/ ((y_train == 1).sum() + 1)"
      ],
      "execution_count": null,
      "outputs": []
    },
    {
      "cell_type": "code",
      "metadata": {
        "id": "VS8FQnnf4bJw",
        "colab_type": "code",
        "colab": {},
        "outputId": "dcf558c0-58b6-4381-8ee6-d88e2c8f7b8b"
      },
      "source": [
        "(L1/L0)*-1"
      ],
      "execution_count": null,
      "outputs": [
        {
          "output_type": "execute_result",
          "data": {
            "text/plain": [
              "array([1.97449625, 1.94359411, 2.0139641 , 2.07751025, 1.99897258,\n",
              "       1.96348358, 1.98924994, 1.97229414])"
            ]
          },
          "metadata": {
            "tags": []
          },
          "execution_count": 95
        }
      ]
    },
    {
      "cell_type": "code",
      "metadata": {
        "scrolled": true,
        "id": "0mQJ6e_T4bJy",
        "colab_type": "code",
        "colab": {},
        "outputId": "463cf949-6fb0-443d-f6c0-751b323267e7"
      },
      "source": [
        "R = np.log((L1/L0)*-1)\n",
        "print(f' R: {R}')"
      ],
      "execution_count": null,
      "outputs": [
        {
          "output_type": "stream",
          "text": [
            " R: [0.6803133  0.66453889 0.70010497 0.73117018 0.69263334 0.67472023\n",
            " 0.68775765 0.6791974 ]\n"
          ],
          "name": "stdout"
        }
      ]
    },
    {
      "cell_type": "code",
      "metadata": {
        "id": "EBtECmU84bJ1",
        "colab_type": "code",
        "colab": {},
        "outputId": "ae56209e-6ff8-41bf-df15-8e5c86644a93"
      },
      "source": [
        "preds_train =  b + X_tr_scaled@R >0\n",
        "(preds_train == y_train.values).mean()"
      ],
      "execution_count": null,
      "outputs": [
        {
          "output_type": "execute_result",
          "data": {
            "text/plain": [
              "0.7096247960848288"
            ]
          },
          "metadata": {
            "tags": []
          },
          "execution_count": 97
        }
      ]
    },
    {
      "cell_type": "code",
      "metadata": {
        "id": "EZNS39Ku4bJ4",
        "colab_type": "code",
        "colab": {},
        "outputId": "09d6e985-34d7-4b11-f322-0a61f5909f6b"
      },
      "source": [
        "preds_test =  b + X_te_scaled@R >0\n",
        "\n",
        "(preds_test == y_test.values).mean()"
      ],
      "execution_count": null,
      "outputs": [
        {
          "output_type": "execute_result",
          "data": {
            "text/plain": [
              "0.6688311688311688"
            ]
          },
          "metadata": {
            "tags": []
          },
          "execution_count": 98
        }
      ]
    },
    {
      "cell_type": "markdown",
      "metadata": {
        "id": "MnQpXkKM4bJ8",
        "colab_type": "raw"
      },
      "source": [
        "# Using scikit-learn implementation of NaiveBayes"
      ]
    },
    {
      "cell_type": "code",
      "metadata": {
        "id": "Cv2TjG3q4bJ9",
        "colab_type": "code",
        "colab": {},
        "outputId": "9a5e947a-cfe1-47a1-d7ad-1cf1e89cb071"
      },
      "source": [
        "model = GaussianNB()\n",
        "model.fit(X_train.values,y_train.values)"
      ],
      "execution_count": null,
      "outputs": [
        {
          "output_type": "execute_result",
          "data": {
            "text/plain": [
              "GaussianNB()"
            ]
          },
          "metadata": {
            "tags": []
          },
          "execution_count": 103
        }
      ]
    },
    {
      "cell_type": "code",
      "metadata": {
        "id": "1vACpKCS4bJ_",
        "colab_type": "code",
        "colab": {},
        "outputId": "e9ca1471-1ec3-4378-ebf8-b5da95b2fa04"
      },
      "source": [
        "preds_train = model.predict(X_train.values)\n",
        "(preds_train == y_train.values).mean()"
      ],
      "execution_count": null,
      "outputs": [
        {
          "output_type": "execute_result",
          "data": {
            "text/plain": [
              "0.7601957585644372"
            ]
          },
          "metadata": {
            "tags": []
          },
          "execution_count": 104
        }
      ]
    },
    {
      "cell_type": "code",
      "metadata": {
        "id": "udXYJ6nc4bKC",
        "colab_type": "code",
        "colab": {},
        "outputId": "f2f01735-72bd-4c74-9f49-cadeaa101b05"
      },
      "source": [
        "preds_test = model.predict(X_test.values)\n",
        "(preds_test == y_test.values).mean()"
      ],
      "execution_count": null,
      "outputs": [
        {
          "output_type": "execute_result",
          "data": {
            "text/plain": [
              "0.7467532467532467"
            ]
          },
          "metadata": {
            "tags": []
          },
          "execution_count": 105
        }
      ]
    }
  ]
}